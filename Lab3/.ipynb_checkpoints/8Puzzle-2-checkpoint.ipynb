{
 "cells": [
  {
   "cell_type": "markdown",
   "metadata": {
    "_cell_guid": "b1076dfc-b9ad-4769-8c92-a6c4dae69d19",
    "_uuid": "8f2839f25d086af736a60e9eeb907d3b93b6e0e5"
   },
   "source": [
    "# 8 Puzzle Problem"
   ]
  },
  {
   "cell_type": "markdown",
   "metadata": {},
   "source": [
    "## Objective\n",
    " Given a 3×3 board with 8 tiles and one empty space \n",
    " - Move the numbers around to match the final configuration using the empty spot \n",
    " - You can slide the numbers from above, below, left and right tiles into the empty space.\n",
    "![](https://media.geeksforgeeks.org/wp-content/uploads/puzzle8init.jpg)"
   ]
  },
  {
   "cell_type": "markdown",
   "metadata": {},
   "source": [
    "Try and use a Brute Force Algorithms\n",
    "\n",
    "![](https://media.geeksforgeeks.org/wp-content/uploads/puzzle-1.jpg)"
   ]
  },
  {
   "cell_type": "code",
   "execution_count": 1,
   "metadata": {},
   "outputs": [],
   "source": [
    "# Bredth first search in search of target - Using Brute Force Algorithms\n",
    "\n",
    "def bfs(src,target):\n",
    "    queue = []\n",
    "    queue.append(src)\n",
    "    \n",
    "    exp = []\n",
    "    count = 0\n",
    "    while len(queue) > 0:\n",
    "        source = queue.pop(0)\n",
    "        exp.append(source)\n",
    "        \n",
    "        count+=1\n",
    "        print(source)\n",
    "        if source==target:\n",
    "            print(\"success\")\n",
    "            print(\"Found after \",count , \" iterations\")\n",
    "            return\n",
    "        \n",
    "        poss_moves_to_do = []\n",
    "        poss_moves_to_do = possible_moves(source,exp)\n",
    "        \n",
    "        for move in poss_moves_to_do:  \n",
    "            if move not in exp and move not in queue:\n",
    "                queue.append(move)\n",
    "        \n",
    "    \n",
    "    "
   ]
  },
  {
   "cell_type": "code",
   "execution_count": 2,
   "metadata": {},
   "outputs": [],
   "source": [
    "def possible_moves(state,visited_states): \n",
    "    # Find index of empty spot and assign it to b\n",
    "    b = state.index(-1)\n",
    "    \n",
    "    d = []\n",
    "    \n",
    "    if b not in [0,1,2]: \n",
    "        d.append('u')\n",
    "    if b not in [6,7,8]: \n",
    "        d.append('d')\n",
    "    if b not in [0,3,6]: \n",
    "        d.append('l')\n",
    "    if b not in [2,5,8]: \n",
    "        d.append('r')\n",
    "        \n",
    "    pos_moves_it_can = []\n",
    "    \n",
    "    for i in d:\n",
    "        pos_moves_it_can.append(gen(state,i,b))\n",
    "        \n",
    "    return [move_it_can for move_it_can in pos_moves_it_can if move_it_can not in visited_states]"
   ]
  },
  {
   "cell_type": "code",
   "execution_count": 3,
   "metadata": {},
   "outputs": [],
   "source": [
    "# Generate move for given direction\n",
    "def gen(state, direction, blank_state):\n",
    "    temp = state.copy()                              \n",
    "\n",
    "    if direction=='d':\n",
    "        temp[blank_state+3],temp[blank_state] = temp[blank_state],temp[blank_state+3]\n",
    "    \n",
    "    if direction=='u':\n",
    "        temp[blank_state-3],temp[blank_state] = temp[blank_state],temp[blank_state-3]\n",
    "    \n",
    "    if direction=='l':\n",
    "        temp[blank_state-1],temp[blank_state] = temp[blank_state],temp[blank_state-1]\n",
    "    \n",
    "    if direction=='r':\n",
    "        temp[blank_state+1],temp[blank_state] = temp[blank_state],temp[blank_state+1]\n",
    "        \n",
    "    return temp"
   ]
  },
  {
   "cell_type": "code",
   "execution_count": 4,
   "metadata": {},
   "outputs": [
    {
     "name": "stdout",
     "output_type": "stream",
     "text": [
      "[1, 2, 3, -1, 4, 5, 6, 7, 8]\n",
      "[-1, 2, 3, 1, 4, 5, 6, 7, 8]\n",
      "[1, 2, 3, 6, 4, 5, -1, 7, 8]\n",
      "[1, 2, 3, 4, -1, 5, 6, 7, 8]\n",
      "[2, -1, 3, 1, 4, 5, 6, 7, 8]\n",
      "[1, 2, 3, 6, 4, 5, 7, -1, 8]\n",
      "[1, -1, 3, 4, 2, 5, 6, 7, 8]\n",
      "[1, 2, 3, 4, 7, 5, 6, -1, 8]\n",
      "[1, 2, 3, 4, 5, -1, 6, 7, 8]\n",
      "success\n",
      "Found after  9  iterations\n"
     ]
    }
   ],
   "source": [
    "#Test 1\n",
    "src = [1,2,3,-1,4,5,6,7,8]\n",
    "target = [1,2,3,4,5,-1,6,7,8]         \n",
    "       \n",
    "bfs(src, target) "
   ]
  },
  {
   "cell_type": "code",
   "execution_count": 5,
   "metadata": {},
   "outputs": [
    {
     "name": "stdout",
     "output_type": "stream",
     "text": [
      "[1, 2, 3, -1, 4, 5, 6, 7, 8]\n",
      "[-1, 2, 3, 1, 4, 5, 6, 7, 8]\n",
      "[1, 2, 3, 6, 4, 5, -1, 7, 8]\n",
      "success\n",
      "Found after  3  iterations\n"
     ]
    }
   ],
   "source": [
    "# Test 2\n",
    "src = [1,2,3,-1,4,5,6,7,8] \n",
    "target=[1,2,3,6,4,5,-1,7,8]\n",
    "\n",
    "\n",
    "\n",
    "bfs(src, target)"
   ]
  },
  {
   "cell_type": "markdown",
   "metadata": {},
   "source": [
    "# Challenge"
   ]
  },
  {
   "cell_type": "markdown",
   "metadata": {},
   "source": [
    "1. Change the above functions to add memory so the a site already checked isnt visited again\n",
    "2. Try another brute force algorithm to find the solution"
   ]
  }
 ],
 "metadata": {
  "kernelspec": {
   "display_name": "Python 3 (ipykernel)",
   "language": "python",
   "name": "python3"
  },
  "language_info": {
   "codemirror_mode": {
    "name": "ipython",
    "version": 3
   },
   "file_extension": ".py",
   "mimetype": "text/x-python",
   "name": "python",
   "nbconvert_exporter": "python",
   "pygments_lexer": "ipython3",
   "version": "3.9.5"
  }
 },
 "nbformat": 4,
 "nbformat_minor": 4
}
